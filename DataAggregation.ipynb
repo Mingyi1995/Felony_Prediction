{
 "cells": [
  {
   "cell_type": "code",
   "execution_count": 3,
   "metadata": {},
   "outputs": [],
   "source": [
    "import geopandas as gpd\n",
    "import pandas as pd\n",
    "import numpy as np\n",
    "import glob\n",
    "from matplotlib import pyplot as plt\n",
    "from sklearn.gaussian_process import GaussianProcessRegressor\n",
    "from sklearn.gaussian_process.kernels import RBF, ConstantKernel,WhiteKernel\n",
    "from sklearn.model_selection import train_test_split\n",
    "from shapely.geometry import Point\n",
    "import urllib\n",
    "from zipfile import ZipFile\n",
    "%matplotlib inline"
   ]
  },
  {
   "cell_type": "markdown",
   "metadata": {},
   "source": [
    "### Narrow the crime type and location"
   ]
  },
  {
   "cell_type": "code",
   "execution_count": 4,
   "metadata": {},
   "outputs": [],
   "source": [
    "path = '/Users/hemingyi/Dropbox/MLCProjectData/AggregatedData/'"
   ]
  },
  {
   "cell_type": "code",
   "execution_count": null,
   "metadata": {},
   "outputs": [],
   "source": [
    "urllib.request.urlretrieve('https://data.cityofnewyork.us/api/views/5uac-w243/rows.csv?accessType=DOWNLOAD',path+'OriginCrimeData.csv')\n"
   ]
  },
  {
   "cell_type": "code",
   "execution_count": 2,
   "metadata": {},
   "outputs": [],
   "source": [
    "\n",
    "df = pd.read_csv(path+'OriginCrimeData.csv')\n",
    "steet_crime = ['GRAND LARCENY', 'ROBBERY', 'FELONY ASSAULT', 'RAPE', 'BURGLARY', 'GRAND LARCENY OF MOTOR VEHICLE', \n",
    "               'HOMICIDE-NEGLIGENT,UNCLASSIFIE', 'KIDNAPPING & RELATED OFFENSES', 'KIDNAPPING','HOMICIDE-NEGLIGENT-VEHICLE']\n",
    "df = df[df.OFNS_DESC.isin(steet_crime)]\n",
    "df = df[(df['PREM_TYP_DESC']=='STREET')|(df['PREM_TYP_DESC']=='TUNNEL')|(df['PREM_TYP_DESC']=='BRIDGE')]\n",
    "df.to_csv(path+'Street_related_crime.csv',index=False)"
   ]
  },
  {
   "cell_type": "markdown",
   "metadata": {},
   "source": [
    "### spatial join crime to census tract"
   ]
  },
  {
   "cell_type": "code",
   "execution_count": null,
   "metadata": {},
   "outputs": [],
   "source": [
    "urllib.request,urlretrieve('https://data.cityofnewyork.us/api/geospatial/fxpq-c8ku?method=export&format=GeoJSON',path+'CensusTract.geojson')\n"
   ]
  },
  {
   "cell_type": "code",
   "execution_count": 98,
   "metadata": {},
   "outputs": [],
   "source": [
    "df = pd.read_csv(path+'Street_related_crime.csv')\n",
    "df = df[['Longitude','Latitude']]\n",
    "shp = gpd.GeoDataFrame.from_file(path+'CensusTract.geojson')"
   ]
  },
  {
   "cell_type": "code",
   "execution_count": 100,
   "metadata": {},
   "outputs": [],
   "source": [
    "geometry = [Point(xy) for xy in zip(df.Longitude, df.Latitude)]\n",
    "crs = {'init': 'epsg:4326'}\n",
    "gdf = gpd.GeoDataFrame(df, crs=crs, geometry=geometry)\n",
    "shp = shp.to_crs(crs = {'init': 'epsg:4326'})"
   ]
  },
  {
   "cell_type": "code",
   "execution_count": 102,
   "metadata": {},
   "outputs": [],
   "source": [
    "join = gpd.sjoin(shp,gdf,how=\"inner\", op='intersects')"
   ]
  },
  {
   "cell_type": "code",
   "execution_count": 103,
   "metadata": {},
   "outputs": [],
   "source": [
    "joinCount = join.groupby(['POLY_ID']).count()"
   ]
  },
  {
   "cell_type": "code",
   "execution_count": 105,
   "metadata": {},
   "outputs": [],
   "source": [
    "joinCount['POLY_ID'] = joinCount.index\n",
    "joinCount['Felony'] = joinCount['Avg_score']"
   ]
  },
  {
   "cell_type": "code",
   "execution_count": 106,
   "metadata": {},
   "outputs": [],
   "source": [
    "joinCount = joinCount[['Felony']]"
   ]
  },
  {
   "cell_type": "code",
   "execution_count": 107,
   "metadata": {},
   "outputs": [],
   "source": [
    "shp = shp.merge(joinCount, on='POLY_ID')"
   ]
  },
  {
   "cell_type": "code",
   "execution_count": 109,
   "metadata": {},
   "outputs": [],
   "source": [
    "shp.to_csv(path+'CensusTractStreetCrime.csv')"
   ]
  },
  {
   "cell_type": "markdown",
   "metadata": {},
   "source": [
    "### add image segmentation result"
   ]
  },
  {
   "cell_type": "code",
   "execution_count": 182,
   "metadata": {},
   "outputs": [],
   "source": [
    "CrimeImage = pd.read_csv(path+\"_pspnet_front.csv\")\n",
    "CrimePoint = pd.read_csv(path+'Street_related_crime.csv')\n"
   ]
  },
  {
   "cell_type": "code",
   "execution_count": 183,
   "metadata": {},
   "outputs": [],
   "source": [
    "CrimeImage['index'] = CrimeImage['FID'].apply(lambda x: x.replace('Front',''))\n",
    "del CrimeImage['FID']"
   ]
  },
  {
   "cell_type": "code",
   "execution_count": 184,
   "metadata": {},
   "outputs": [],
   "source": [
    "CrimePoint = CrimePoint[['Latitude','Longitude']]\n",
    "CrimePoint['index'] = CrimePoint.index.astype('str')"
   ]
  },
  {
   "cell_type": "code",
   "execution_count": 186,
   "metadata": {},
   "outputs": [],
   "source": [
    "CrimeImagePoint = CrimeImage.merge(CrimePoint,on='index')"
   ]
  },
  {
   "cell_type": "code",
   "execution_count": 193,
   "metadata": {},
   "outputs": [],
   "source": [
    "Random = pd.read_csv(path+'RandomPointImage.csv')"
   ]
  },
  {
   "cell_type": "code",
   "execution_count": 194,
   "metadata": {},
   "outputs": [],
   "source": [
    "geometry = [Point(xy) for xy in zip(CrimeImagePoint.Longitude, CrimeImagePoint.Latitude)]\n",
    "crs = {'init': 'epsg:4326'}\n",
    "CrimeImagePointshp = gpd.GeoDataFrame(CrimeImagePoint, crs=crs, geometry=geometry)\n",
    "geometry = [Point(xy) for xy in zip(Random.Lng, Random.Lat)]\n",
    "Randomshp= gpd.GeoDataFrame(Random, crs=crs, geometry=geometry)"
   ]
  },
  {
   "cell_type": "code",
   "execution_count": 199,
   "metadata": {},
   "outputs": [],
   "source": [
    "Randomshp = Randomshp[['building', 'sky', 'road', 'sidewalk', 'person', 'car', 'awning',\n",
    "       'bicycle', 'tree', 'grass', 'plant', 'signboard', 'streetlight',\n",
    "       'ashcan', 'wall', 'railing', 'van', 'fence', 'earth', 'mountain',\n",
    "       'ceiling', 'minibike', 'bridge', 'skyscraper', 'water', 'windowpane',\n",
    "       'column', 'sculpture', 'lamp', 'fountain', 'chair', 'bulletin board',\n",
    "       'geometry']]\n",
    "CrimeImagePointshp = CrimeImagePointshp[['building', 'sky', 'road', 'sidewalk', 'person', 'car', 'awning',\n",
    "       'bicycle', 'tree', 'grass', 'plant', 'signboard', 'streetlight',\n",
    "       'ashcan', 'wall', 'railing', 'van', 'fence', 'earth', 'mountain',\n",
    "       'ceiling', 'minibike', 'bridge', 'skyscraper', 'water', 'windowpane',\n",
    "       'column', 'sculpture', 'lamp', 'fountain', 'chair', 'bulletin board',\n",
    "       'geometry']]"
   ]
  },
  {
   "cell_type": "code",
   "execution_count": 228,
   "metadata": {},
   "outputs": [],
   "source": [
    "Points = pd.concat([Randomshp, CrimeImagePointshp])\n",
    "Points.to_csv(path+'AllSamplePoints.csv')"
   ]
  },
  {
   "cell_type": "code",
   "execution_count": 211,
   "metadata": {},
   "outputs": [],
   "source": [
    "CensusTract = path+'CensusTract.geojson'\n",
    "polygon = gpd.GeoDataFrame.from_file(CensusTract)\n",
    "polygon = polygon[polygon['boro_code']=='1']\n",
    "join = gpd.sjoin(Points,polygon,how=\"inner\", op='intersects')"
   ]
  },
  {
   "cell_type": "code",
   "execution_count": 212,
   "metadata": {},
   "outputs": [],
   "source": [
    "joinCount = join.groupby(['ct2010']).mean()"
   ]
  },
  {
   "cell_type": "code",
   "execution_count": 216,
   "metadata": {},
   "outputs": [],
   "source": [
    "df = pd.read_csv(path+'Street_related_crime.csv')\n",
    "df = df[['Longitude','Latitude']]\n",
    "shp = gpd.GeoDataFrame.from_file(CensusTract)\n",
    "shp = shp[shp['boro_code']=='1']\n",
    "geometry = [Point(xy) for xy in zip(df.Longitude, df.Latitude)]\n",
    "crs = {'init': 'epsg:4326'}\n",
    "gdf = gpd.GeoDataFrame(df, crs=crs, geometry=geometry)\n",
    "join = gpd.sjoin(shp,gdf,how=\"inner\", op='intersects')"
   ]
  },
  {
   "cell_type": "code",
   "execution_count": 220,
   "metadata": {},
   "outputs": [],
   "source": [
    "joinCrimeCount = join.groupby(['ct2010']).count()"
   ]
  },
  {
   "cell_type": "code",
   "execution_count": 222,
   "metadata": {},
   "outputs": [],
   "source": [
    "joinCrimeCount['Felony'] = joinCrimeCount['shape_area']\n",
    "joinCrimeCount = joinCrimeCount[['CrimeCount']]"
   ]
  },
  {
   "cell_type": "code",
   "execution_count": 225,
   "metadata": {},
   "outputs": [],
   "source": [
    "joinCount = joinCount.merge(joinCrimeCount,on='ct2010')"
   ]
  },
  {
   "cell_type": "code",
   "execution_count": 232,
   "metadata": {},
   "outputs": [],
   "source": [
    "joinCount['tract'] = joinCount.index.astype('str')"
   ]
  },
  {
   "cell_type": "code",
   "execution_count": 233,
   "metadata": {},
   "outputs": [],
   "source": [
    "joinCount.to_csv(path+\"StreetAvgPspNet.csv\",index=False)"
   ]
  },
  {
   "cell_type": "code",
   "execution_count": null,
   "metadata": {},
   "outputs": [],
   "source": [
    "urllib.request.urlretrieve('https://www.kaggle.com/muonneutrino/new-york-city-census-data/downloads/new-york-city-census-data.zip/2',path+'DemographicsData.zip')\n"
   ]
  },
  {
   "cell_type": "code",
   "execution_count": 288,
   "metadata": {},
   "outputs": [],
   "source": [
    "df = pd.read_csv(path+\"demographic_census.csv\")\n",
    "df.dropna(inplace=True)\n",
    "shp = pd.read_csv(path+\"StreetAvgPspNet.csv\")\n",
    "shp['Felony'] = shp['CrimeCount']\n",
    "shp['plants'] = shp['tree']+shp['grass']+shp['plant']\n",
    "Class = pd.read_csv(path+\"CensusTractSVI.csv\")"
   ]
  },
  {
   "cell_type": "code",
   "execution_count": 289,
   "metadata": {},
   "outputs": [],
   "source": [
    "Class = Class[['yCut','tract']]"
   ]
  },
  {
   "cell_type": "code",
   "execution_count": 290,
   "metadata": {},
   "outputs": [],
   "source": [
    "mergedf = shp.merge(df, left_on='tract', right_on='ct2010')\n",
    "mergedf = mergedf.merge(Class,left_on='tract', right_on='tract')\n",
    "mergedf['class'] = mergedf['yCut']"
   ]
  },
  {
   "cell_type": "code",
   "execution_count": 291,
   "metadata": {},
   "outputs": [],
   "source": [
    "del mergedf['Unnamed: 0']\n",
    "del mergedf['boro_code']\n",
    "del mergedf['boro_name']\n",
    "del mergedf['shape_area']\n",
    "del mergedf['shape_leng']\n",
    "del mergedf['index_right']\n",
    "del mergedf['geometry']\n",
    "del mergedf['yCut']\n",
    "del mergedf['ct2010']"
   ]
  },
  {
   "cell_type": "code",
   "execution_count": 293,
   "metadata": {},
   "outputs": [],
   "source": [
    "mergedf.to_csv(path+\"/merge.csv\")"
   ]
  }
 ],
 "metadata": {
  "kernelspec": {
   "display_name": "Python 3",
   "language": "python",
   "name": "python3"
  },
  "language_info": {
   "codemirror_mode": {
    "name": "ipython",
    "version": 3
   },
   "file_extension": ".py",
   "mimetype": "text/x-python",
   "name": "python",
   "nbconvert_exporter": "python",
   "pygments_lexer": "ipython3",
   "version": "3.7.1"
  }
 },
 "nbformat": 4,
 "nbformat_minor": 2
}
