{
 "cells": [
  {
   "cell_type": "code",
   "execution_count": null,
   "metadata": {},
   "outputs": [],
   "source": [
    "import numpy as np\n",
    "from scipy.stats import mode\n",
    "import sys\n",
    "%matplotlib notebook\n",
    "import matplotlib\n",
    "import matplotlib.pyplot as plt\n",
    "from scipy.io import loadmat\n",
    "import time\n",
    "import pandas as pd\n",
    "import os\n",
    "\n",
    "# ### 1. Read csv data\n",
    "# df = pd.read_csv('streetscore/nyc.csv', encoding='utf-8', engine='python')\n",
    "# df.head(2)"
   ]
  },
  {
   "cell_type": "markdown",
   "metadata": {},
   "source": [
    "### read downloaded data"
   ]
  },
  {
   "cell_type": "code",
   "execution_count": null,
   "metadata": {},
   "outputs": [],
   "source": [
    "#read downloaded files\n",
    "DownloadPath = '/Users/hemingyi/Dropbox/MLCProjectData/CrimeImage/'         \n",
    "dowonloaded_file = os.listdir(DownloadPath)              \n",
    "# fopen = open(DownloadPath+'/name.txt', 'w')\n",
    "downloaded = set()\n",
    "for d in dowonloaded_file: \n",
    "    a,b = d.split('.',1)\n",
    "#     a = a.replace('Front','')\n",
    "#     a = a.replace('Left','')\n",
    "#     a = a.replace('Right','')\n",
    "#     string = a + '\\n'  \n",
    "#     fopen.write(string)\n",
    "    downloaded.add(a)\n",
    "# fopen.close()\n",
    "print ('done')\n",
    "print(downloaded)"
   ]
  },
  {
   "cell_type": "code",
   "execution_count": null,
   "metadata": {},
   "outputs": [],
   "source": [
    "path = '/Users/hemingyi/Dropbox/MLCProjectData/AggregatedData/'\n",
    "filename = 'Street_related_crime.csv'"
   ]
  },
  {
   "cell_type": "code",
   "execution_count": null,
   "metadata": {},
   "outputs": [],
   "source": [
    "### Request metaData and download panorama image with correct angle of view### My Google API keys\n",
    "key = ****************************\n",
    "import urllib,xmltodict,time,os,os.path\n",
    "import pandas as pd\n",
    "\n",
    "\n",
    "df = pd.read_csv(path+filename, encoding='utf-8', engine='python')\n",
    "print(\"***Try city %s with %s photos\"%(filename,len(df)))\n",
    "print(df.head(1))\n",
    "path = 'CaseStudy/origin/'+filename         \n",
    "\n",
    "atp=0\n",
    "for i in range(len(df))[0:]:\n",
    "    FID=i\n",
    "    ### 1.0 Location information\n",
    "    lat,lon=(str(df['Latitude'][i]),str(df['Longitude'][i]))\n",
    "    if FID in downloaded:\n",
    "        print('Photo %s already exists, skip.'%(FID))\n",
    "        SkipList.append(FID)\n",
    "    else:\n",
    "        #print('Not in downloaded_jpg, try to access it')\n",
    "    ### 1.1 Generate the urlMetaData for SVI metadata at location (lat,lon)\n",
    "        urlMetaData='http://maps.google.com/cbk?output=xml&ll=%s,%s'%(lat,lon)\n",
    "        ### 1.2 Reguest and save the metadata\n",
    "        try:\n",
    "            metaDataxml = urllib.request.urlopen(urlMetaData)\n",
    "            metaData = metaDataxml.read()\n",
    "            data=xmltodict.parse(metaData)\n",
    "            ### 1.3 Get Pano Yaw Degree\n",
    "            if data['panorama']==None:\n",
    "                SkipList.append(FID)\n",
    "                print(\"No panorama data, skip %s\"%(FID))\n",
    "                continue\n",
    "            else:\n",
    "                pano_yaw_degree = list(data['panorama']['projection_properties'].items())[1][1]\n",
    "                #print(data['panorama'])\n",
    "                ### 2. Request the panorama photo with appropriate pano_yaw_degree\n",
    "                # 2.1 Set up image size, fov, pitch, heading values\n",
    "                x,y=('600','300')\n",
    "                base  = \"https://maps.googleapis.com/maps/api/streetview?size=%sx%s&location=\"%(x,y)\n",
    "                fov   = '120' # focus of view\n",
    "                pitch = '0' # Vertical camera view angle towards road\n",
    "                heading = pano_yaw_degree\n",
    "                source='outdoor'\n",
    "                # 2.2 Generate a urlSVI for the StreetViewImage SVI\n",
    "                urlSVI = base+lat+','+lon+'&key='+key+'&fov='+fov+'&pitch='+pitch+'&heading='+heading+'&source='+source \n",
    "                #print(urlSVI)\n",
    "                # 2.3 Save the SVI image\n",
    "                filename=str(FID)+'Front.jpg'\n",
    "                #print(filename)\n",
    "                urllib.request.urlretrieve(urlSVI, os.path.join(DownloadPath,filename))\n",
    "                leftHeading = float(heading) - 90\n",
    "                if leftHeading < 0:\n",
    "                    leftHeading = leftHeading +360\n",
    "                urlSVILeft = base+lat+','+lon+'&key='+key+'&fov='+fov+'&pitch='+pitch+'&heading='+str(leftHeading)+'&source='+source \n",
    "                filename=str(FID)+'Left.jpg'\n",
    "                #print(filename)\n",
    "                urllib.request.urlretrieve(urlSVILeft, os.path.join(DownloadPath,filename))\n",
    "                rightHeading = float(heading) + 90\n",
    "                if rightHeading > 360:\n",
    "                    rightHeading = rightHeading - 360\n",
    "                urlSVIRight = base+lat+','+lon+'&key='+key+'&fov='+fov+'&pitch='+pitch+'&heading='+str(rightHeading)+'&source='+source \n",
    "                filename=str(FID)+'Right.jpg'\n",
    "                #print(filename)\n",
    "                urllib.request.urlretrieve(urlSVIRight, os.path.join(DownloadPath,filename))\n",
    "                atp+=1\n",
    "                print(\"Attempt:%s, download photo%s\"%(atp,FID))\n",
    "        except:\n",
    "            continue\n",
    "print('Done saving the photo')    "
   ]
  },
  {
   "cell_type": "code",
   "execution_count": null,
   "metadata": {},
   "outputs": [],
   "source": []
  }
 ],
 "metadata": {
  "kernelspec": {
   "display_name": "Python 3",
   "language": "python",
   "name": "python3"
  },
  "language_info": {
   "codemirror_mode": {
    "name": "ipython",
    "version": 3
   },
   "file_extension": ".py",
   "mimetype": "text/x-python",
   "name": "python",
   "nbconvert_exporter": "python",
   "pygments_lexer": "ipython3",
   "version": "3.7.1"
  }
 },
 "nbformat": 4,
 "nbformat_minor": 2
}
